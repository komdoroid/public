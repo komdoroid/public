{
 "cells": [
  {
   "cell_type": "markdown",
   "id": "a937170d-b89a-455a-a4f3-f447c82e8dae",
   "metadata": {},
   "source": [
    "# 探索的データ分析"
   ]
  },
  {
   "cell_type": "code",
   "execution_count": 5,
   "id": "107c5c65-413d-40b0-ab81-49ea06aa2073",
   "metadata": {},
   "outputs": [],
   "source": [
    "import glob\n",
    "import pandas as pd\n",
    "import numpy as np\n",
    "import matplotlib.pyplot as plt\n",
    "import seaborn as sns\n",
    "%matplotlib inline"
   ]
  },
  {
   "cell_type": "code",
   "execution_count": 6,
   "id": "6e79fb50-05ac-4bbd-a6e0-ae40482c460c",
   "metadata": {},
   "outputs": [],
   "source": [
    "files = glob.glob(\"train/*.csv\")"
   ]
  },
  {
   "cell_type": "code",
   "execution_count": 7,
   "id": "5e273057-e18d-4e2a-915b-9c22b1b74bb0",
   "metadata": {},
   "outputs": [
    {
     "name": "stderr",
     "output_type": "stream",
     "text": [
      "C:\\Users\\komco\\AppData\\Local\\Temp\\ipykernel_19216\\252572324.py:3: DtypeWarning: Columns (10) have mixed types. Specify dtype option on import or set low_memory=False.\n",
      "  data_list .append(pd.read_csv(file,index_col=0))\n",
      "C:\\Users\\komco\\AppData\\Local\\Temp\\ipykernel_19216\\252572324.py:3: DtypeWarning: Columns (10) have mixed types. Specify dtype option on import or set low_memory=False.\n",
      "  data_list .append(pd.read_csv(file,index_col=0))\n"
     ]
    }
   ],
   "source": [
    "data_list = []\n",
    "for file in files:\n",
    "    data_list .append(pd.read_csv(file,index_col=0))"
   ]
  },
  {
   "cell_type": "code",
   "execution_count": 8,
   "id": "c4e8cd99-5d15-40a8-b352-711194ddf36f",
   "metadata": {},
   "outputs": [],
   "source": [
    "df = pd.concat(data_list)"
   ]
  },
  {
   "cell_type": "code",
   "execution_count": 9,
   "id": "6b678207-6bb4-4660-b863-ae2186ea1def",
   "metadata": {},
   "outputs": [
    {
     "data": {
      "text/plain": [
       "(637351, 27)"
      ]
     },
     "execution_count": 9,
     "metadata": {},
     "output_type": "execute_result"
    }
   ],
   "source": [
    "df.shape"
   ]
  },
  {
   "cell_type": "code",
   "execution_count": 10,
   "id": "404a1de4-7eaf-42f4-a095-747c3ae73344",
   "metadata": {},
   "outputs": [
    {
     "name": "stdout",
     "output_type": "stream",
     "text": [
      "<class 'pandas.core.frame.DataFrame'>\n",
      "Index: 637351 entries, 1060685 to 47003572\n",
      "Data columns (total 27 columns):\n",
      " #   Column        Non-Null Count   Dtype  \n",
      "---  ------        --------------   -----  \n",
      " 0   種類            637351 non-null  object \n",
      " 1   地域            0 non-null       float64\n",
      " 2   市区町村コード       637351 non-null  int64  \n",
      " 3   都道府県名         637351 non-null  object \n",
      " 4   市区町村名         637351 non-null  object \n",
      " 5   地区名           637060 non-null  object \n",
      " 6   最寄駅：名称        634732 non-null  object \n",
      " 7   最寄駅：距離（分）     614306 non-null  object \n",
      " 8   間取り           615609 non-null  object \n",
      " 9   面積（㎡）         637351 non-null  object \n",
      " 10  土地の形状         0 non-null       float64\n",
      " 11  間口            0 non-null       float64\n",
      " 12  延床面積（㎡）       0 non-null       float64\n",
      " 13  建築年           619117 non-null  object \n",
      " 14  建物の構造         623423 non-null  object \n",
      " 15  用途            591214 non-null  object \n",
      " 16  今後の利用目的       275091 non-null  object \n",
      " 17  前面道路：方位       0 non-null       float64\n",
      " 18  前面道路：種類       0 non-null       float64\n",
      " 19  前面道路：幅員（ｍ）    0 non-null       float64\n",
      " 20  都市計画          618786 non-null  object \n",
      " 21  建ぺい率（％）       614848 non-null  float64\n",
      " 22  容積率（％）        614848 non-null  float64\n",
      " 23  取引時点          637351 non-null  object \n",
      " 24  改装            580431 non-null  object \n",
      " 25  取引の事情等        18275 non-null   object \n",
      " 26  取引価格（総額）_log  637351 non-null  float64\n",
      "dtypes: float64(10), int64(1), object(16)\n",
      "memory usage: 136.2+ MB\n"
     ]
    }
   ],
   "source": [
    "df.info()"
   ]
  },
  {
   "cell_type": "code",
   "execution_count": 15,
   "id": "664c548a-f7d8-4f3a-8202-9d372079e81b",
   "metadata": {},
   "outputs": [],
   "source": [
    "nonnull_list = []\n",
    "for col in df.columns:\n",
    "    nonnull = df[col].count()\n",
    "    if nonnull == 0:\n",
    "        nonnull_list.append(col)\n",
    "df = df.drop(nonnull_list, axis = 1)\n",
    "# df.drop(nonnull_list, axis=1)"
   ]
  },
  {
   "cell_type": "code",
   "execution_count": 20,
   "id": "962ac921-0d2f-47cb-80d8-90adef0f411c",
   "metadata": {},
   "outputs": [],
   "source": [
    "df = df.drop(\"市区町村名\", axis = 1)"
   ]
  },
  {
   "cell_type": "code",
   "execution_count": 27,
   "id": "63eb7e77-908e-4710-8c0e-c3db918ba89e",
   "metadata": {},
   "outputs": [],
   "source": [
    "df = df.drop(\"種類\", axis = 1)"
   ]
  },
  {
   "cell_type": "code",
   "execution_count": 28,
   "id": "37877f60-aaf8-4f6f-b623-0cfae89ce117",
   "metadata": {},
   "outputs": [
    {
     "name": "stdout",
     "output_type": "stream",
     "text": [
      "<class 'pandas.core.frame.DataFrame'>\n",
      "Index: 637351 entries, 1060685 to 47003572\n",
      "Data columns (total 18 columns):\n",
      " #   Column        Non-Null Count   Dtype  \n",
      "---  ------        --------------   -----  \n",
      " 0   市区町村コード       637351 non-null  int64  \n",
      " 1   都道府県名         637351 non-null  object \n",
      " 2   地区名           637060 non-null  object \n",
      " 3   最寄駅：名称        634732 non-null  object \n",
      " 4   最寄駅：距離（分）     614306 non-null  object \n",
      " 5   間取り           615609 non-null  object \n",
      " 6   面積（㎡）         637351 non-null  object \n",
      " 7   建築年           619117 non-null  object \n",
      " 8   建物の構造         623423 non-null  object \n",
      " 9   用途            591214 non-null  object \n",
      " 10  今後の利用目的       275091 non-null  object \n",
      " 11  都市計画          618786 non-null  object \n",
      " 12  建ぺい率（％）       614848 non-null  float64\n",
      " 13  容積率（％）        614848 non-null  float64\n",
      " 14  取引時点          637351 non-null  object \n",
      " 15  改装            580431 non-null  object \n",
      " 16  取引の事情等        18275 non-null   object \n",
      " 17  取引価格（総額）_log  637351 non-null  float64\n",
      "dtypes: float64(3), int64(1), object(14)\n",
      "memory usage: 92.4+ MB\n"
     ]
    }
   ],
   "source": [
    "df.info()"
   ]
  },
  {
   "cell_type": "code",
   "execution_count": null,
   "id": "363aeb85-0a18-41db-9164-1b1b3551bb01",
   "metadata": {},
   "outputs": [],
   "source": []
  }
 ],
 "metadata": {
  "kernelspec": {
   "display_name": "Python 3 (ipykernel)",
   "language": "python",
   "name": "python3"
  },
  "language_info": {
   "codemirror_mode": {
    "name": "ipython",
    "version": 3
   },
   "file_extension": ".py",
   "mimetype": "text/x-python",
   "name": "python",
   "nbconvert_exporter": "python",
   "pygments_lexer": "ipython3",
   "version": "3.11.3"
  }
 },
 "nbformat": 4,
 "nbformat_minor": 5
}
