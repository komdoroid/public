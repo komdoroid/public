{
 "cells": [
  {
   "cell_type": "markdown",
   "id": "626e12c0-2988-489e-99b6-45c5b2cc585c",
   "metadata": {},
   "source": [
    "# 探索的データ分析"
   ]
  },
  {
   "cell_type": "code",
   "execution_count": 2,
   "id": "1b75cceb-eda8-4728-b1cd-7f269d5539e1",
   "metadata": {},
   "outputs": [],
   "source": [
    "import glob\n",
    "import pandas as pd\n",
    "import numpy as np\n",
    "import matplotlib.pylab as plt\n",
    "import seaborn as sns\n",
    "%matplotlib inline"
   ]
  },
  {
   "cell_type": "code",
   "execution_count": 9,
   "id": "4a50cce1-2dce-4887-a6a9-cef0a6265d9d",
   "metadata": {},
   "outputs": [],
   "source": [
    "files = glob.glob(\"train/*.csv\")"
   ]
  },
  {
   "cell_type": "code",
   "execution_count": 11,
   "id": "a7505a32-4ac4-4c8c-bea9-7df1dc903cc0",
   "metadata": {},
   "outputs": [
    {
     "ename": "SyntaxError",
     "evalue": "invalid syntax (1377006963.py, line 1)",
     "output_type": "error",
     "traceback": [
      "\u001b[1;36m  Cell \u001b[1;32mIn[11], line 1\u001b[1;36m\u001b[0m\n\u001b[1;33m    files[]\u001b[0m\n\u001b[1;37m          ^\u001b[0m\n\u001b[1;31mSyntaxError\u001b[0m\u001b[1;31m:\u001b[0m invalid syntax\n"
     ]
    }
   ],
   "source": [
    "files[]"
   ]
  },
  {
   "cell_type": "code",
   "execution_count": null,
   "id": "29279147-803c-4364-bd34-06130a6c3a1f",
   "metadata": {},
   "outputs": [],
   "source": []
  }
 ],
 "metadata": {
  "kernelspec": {
   "display_name": "Python 3 (ipykernel)",
   "language": "python",
   "name": "python3"
  },
  "language_info": {
   "codemirror_mode": {
    "name": "ipython",
    "version": 3
   },
   "file_extension": ".py",
   "mimetype": "text/x-python",
   "name": "python",
   "nbconvert_exporter": "python",
   "pygments_lexer": "ipython3",
   "version": "3.11.3"
  }
 },
 "nbformat": 4,
 "nbformat_minor": 5
}
